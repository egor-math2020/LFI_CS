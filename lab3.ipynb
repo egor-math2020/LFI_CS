{
 "cells": [
  {
   "cell_type": "code",
   "execution_count": 27,
   "id": "2f5c1977",
   "metadata": {},
   "outputs": [
    {
     "name": "stdout",
     "output_type": "stream",
     "text": [
      "{'p', 'f', 'w', 'q', 'l'}\n"
     ]
    }
   ],
   "source": [
    "#Упражнение 0\n",
    "A = set('bqlpzlkwehrlulsdhfliuywemrlkjhsdlfjhlzxcovt')\n",
    "B = set('zmxcvnboaiyerjhbziuxdytvasenbriutsdvinjhgik')\n",
    "print(A-(A.intersection(B)))"
   ]
  },
  {
   "cell_type": "code",
   "execution_count": 26,
   "id": "828e44f4",
   "metadata": {},
   "outputs": [
    {
     "name": "stdout",
     "output_type": "stream",
     "text": [
      "ewr wer r\n",
      "{'r'}\n"
     ]
    }
   ],
   "source": [
    "#Упражнение 1\n",
    "A=input()\n",
    "S=A.split(\" \")\n",
    "Q=set(S[1])\n",
    "W=set(S[0])\n",
    "E=set(S[2])\n",
    "F=Q&W\n",
    "G=E&F\n",
    "print(G)"
   ]
  },
  {
   "cell_type": "code",
   "execution_count": 22,
   "id": "11e58780",
   "metadata": {},
   "outputs": [
    {
     "name": "stdout",
     "output_type": "stream",
     "text": [
      "2345 23\n",
      "{'3', '2'}\n"
     ]
    }
   ],
   "source": [
    "#Упражнение 2\n",
    "a=[set(s) for s in input().split()]\n",
    "for i in range(len(a)):\n",
    "    a[0]=a[0].intersection(a[i])\n",
    "print(a[0])"
   ]
  },
  {
   "cell_type": "code",
   "execution_count": 20,
   "id": "c02cec86",
   "metadata": {},
   "outputs": [
    {
     "name": "stdout",
     "output_type": "stream",
     "text": [
      "123345 13255543333 123511111324 52346546767886 234111111115 23\n",
      "{'3', '2'}\n"
     ]
    }
   ],
   "source": [
    "#Упражнение 3\n",
    "a=[set(s) for s in str(input()).split(\" \")]\n",
    "i=0\n",
    "D=set()\n",
    "while i <= (len(a)-1):\n",
    "    D=a[0].intersection(a[i])\n",
    "    i+=1\n",
    "print(D)"
   ]
  },
  {
   "cell_type": "code",
   "execution_count": 30,
   "id": "d3e7e2f1",
   "metadata": {},
   "outputs": [
    {
     "name": "stdout",
     "output_type": "stream",
     "text": [
      "{97: 'a', 98: 'b', 99: 'c', 100: 'd', 101: 'e', 102: 'f', 103: 'g', 104: 'h', 105: 'i', 106: 'j', 107: 'k', 108: 'l', 109: 'm', 110: 'n', 111: 'o', 112: 'p', 113: 'q', 114: 'r', 115: 's', 116: 't', 117: 'u', 118: 'v', 119: 'w', 120: 'x', 121: 'y', 122: 'z', 65: 'A', 66: 'B', 67: 'C', 68: 'D', 69: 'E', 70: 'F', 71: 'G', 72: 'H', 73: 'I', 74: 'J', 75: 'K', 76: 'L', 77: 'M', 78: 'N', 79: 'O', 80: 'P', 81: 'Q', 82: 'R', 83: 'S', 84: 'T', 85: 'U', 86: 'V', 87: 'W', 88: 'X', 89: 'Y', 90: 'Z'}\n"
     ]
    }
   ],
   "source": [
    "#Упражнение 4\n",
    "d = {i: chr(i) for i in range(97, 123)}\n",
    "for i in range(65, 91):\n",
    "    d[i]=chr(i)\n",
    "print(d)"
   ]
  },
  {
   "cell_type": "code",
   "execution_count": 47,
   "id": "9a743b77",
   "metadata": {},
   "outputs": [
    {
     "name": "stdout",
     "output_type": "stream",
     "text": [
      "{'a': 1, 'b': 2, 'c': 3, 'd': 4, 'e': 5, 'f': 6, 'g': 7, 'h': 8, 'i': 9, 'j': 10, 'k': 11, 'l': 12, 'm': 13, 'n': 14, 'o': 15, 'p': 16, 'q': 17, 'r': 18, 's': 19, 't': 20, 'u': 21, 'v': 22, 'w': 23, 'x': 24, 'y': 25, 'z': 26, 'A': 1, 'B': 2, 'C': 3, 'D': 4, 'E': 5, 'F': 6, 'G': 7, 'H': 8, 'I': 9, 'J': 10, 'K': 11, 'L': 12, 'M': 13, 'N': 14, 'O': 15, 'P': 16, 'Q': 17, 'R': 18, 'S': 19, 'T': 20, 'U': 21, 'V': 22, 'W': 23, 'X': 24, 'Y': 25, 'Z': 26}\n"
     ]
    }
   ],
   "source": [
    "#Упражнение 5\n",
    "d = {chr(i):i-96 for i in range(97, 123)}\n",
    "for i in range(65, 91):\n",
    "    d[chr(i)]=i-64\n",
    "print(d)"
   ]
  },
  {
   "cell_type": "code",
   "execution_count": 35,
   "id": "490a5314",
   "metadata": {},
   "outputs": [
    {
     "name": "stdout",
     "output_type": "stream",
     "text": [
      "abcd\n",
      "10\n"
     ]
    }
   ],
   "source": [
    "#Упражнение 6\n",
    "t=0\n",
    "Q=set()\n",
    "A=input()\n",
    "for i in A:\n",
    "    if ord(i)<=90:\n",
    "        Q.add(ord(i)-64)\n",
    "    else:\n",
    "        Q.add(ord(i)-96)\n",
    "for f in Q:\n",
    "    t=t+f\n",
    "print(t)"
   ]
  }
 ],
 "metadata": {
  "kernelspec": {
   "display_name": "Python 3 (ipykernel)",
   "language": "python",
   "name": "python3"
  },
  "language_info": {
   "codemirror_mode": {
    "name": "ipython",
    "version": 3
   },
   "file_extension": ".py",
   "mimetype": "text/x-python",
   "name": "python",
   "nbconvert_exporter": "python",
   "pygments_lexer": "ipython3",
   "version": "3.10.6"
  }
 },
 "nbformat": 4,
 "nbformat_minor": 5
}
