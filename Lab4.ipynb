{
 "cells": [
  {
   "cell_type": "code",
   "execution_count": 1,
   "id": "2d45ef27",
   "metadata": {},
   "outputs": [],
   "source": [
    "import numpy as np"
   ]
  },
  {
   "cell_type": "code",
   "execution_count": 2,
   "id": "b9d80135",
   "metadata": {},
   "outputs": [
    {
     "name": "stdout",
     "output_type": "stream",
     "text": [
      "32\n",
      "32\n"
     ]
    }
   ],
   "source": [
    "#Упражнение 1\n",
    "q=np.array([1, 2, 3])\n",
    "w=np.array([4, 5, 6])\n",
    "E=np.dot(q,w)\n",
    "print(E)\n",
    "print(np.inner(q,w))"
   ]
  },
  {
   "cell_type": "code",
   "execution_count": 3,
   "id": "75e610b9",
   "metadata": {},
   "outputs": [
    {
     "name": "stdout",
     "output_type": "stream",
     "text": [
      "[[22 28]\n",
      " [49 64]]\n",
      "[[22 28]\n",
      " [49 64]]\n",
      "[[1. 2. 3.]\n",
      " [4. 5. 6.]]\n"
     ]
    }
   ],
   "source": [
    "#Упражнение 2\n",
    "q=np.array([[1, 2, 3], [4, 5, 6]])\n",
    "w=np.array([[1, 2], [3, 4], [5, 6]])\n",
    "print(np.dot(q, w))\n",
    "print(np.matmul(q, w))\n",
    "e=np.eye(3)\n",
    "print(np.dot(q, e))"
   ]
  },
  {
   "cell_type": "code",
   "execution_count": 4,
   "id": "aac252c2",
   "metadata": {},
   "outputs": [
    {
     "name": "stdout",
     "output_type": "stream",
     "text": [
      "9.539392014169456\n"
     ]
    }
   ],
   "source": [
    "#Упражнение 3\n",
    "q=np.array([[1, 2, 3], [4, 5, 6]])\n",
    "print(np.linalg.norm(q))"
   ]
  },
  {
   "cell_type": "code",
   "execution_count": 15,
   "id": "34d18b53",
   "metadata": {},
   "outputs": [
    {
     "name": "stdout",
     "output_type": "stream",
     "text": [
      "0.9650349822710069\n"
     ]
    }
   ],
   "source": [
    "#Упражнение 4\n",
    "q=np.array([1, 2, 4])\n",
    "w=np.array([3, 5, 6])\n",
    "e=np.inner(q, w)\n",
    "r=np.linalg.norm(q)*np.linalg.norm(w)\n",
    "print(e/r)"
   ]
  },
  {
   "cell_type": "code",
   "execution_count": 21,
   "id": "53e23a95",
   "metadata": {},
   "outputs": [
    {
     "name": "stdout",
     "output_type": "stream",
     "text": [
      "-2.9999999999999996\n",
      "-2.9999999999999996\n",
      "0.0\n",
      "2.9999999999999996\n",
      "0.0\n",
      "-15.0\n",
      "-2.99999999999999\n"
     ]
    }
   ],
   "source": [
    "#Упражнение 5\n",
    "q=np.array([[1, 2], [4, 5]])\n",
    "w=q.T\n",
    "print(np.linalg.det(q)) \n",
    "print(np.linalg.det(w))\n",
    "e=np.array([[0, 0,], [4,5]])\n",
    "print(np.linalg.det(e))\n",
    "Q=np.array([[4, 5], [1, 2]])\n",
    "print(np.linalg.det(Q))\n",
    "R=np.array(([3, 3], [3, 3]))\n",
    "print(np.linalg.det(R))\n",
    "A=np.array([[5,10],[4, 5]])\n",
    "print(np.linalg.det(A))\n",
    "S=np.array([[21,27], [4, 5]])\n",
    "print(np.linalg.det(S))"
   ]
  },
  {
   "cell_type": "code",
   "execution_count": null,
   "id": "4fa9b9e2",
   "metadata": {},
   "outputs": [],
   "source": []
  }
 ],
 "metadata": {
  "kernelspec": {
   "display_name": "Python 3 (ipykernel)",
   "language": "python",
   "name": "python3"
  },
  "language_info": {
   "codemirror_mode": {
    "name": "ipython",
    "version": 3
   },
   "file_extension": ".py",
   "mimetype": "text/x-python",
   "name": "python",
   "nbconvert_exporter": "python",
   "pygments_lexer": "ipython3",
   "version": "3.10.6"
  }
 },
 "nbformat": 4,
 "nbformat_minor": 5
}
